{
 "cells": [
  {
   "cell_type": "markdown",
   "id": "58d93326-776a-46c9-90f5-e3e24236cc55",
   "metadata": {},
   "source": [
    "# Project Development Notebook \n",
    "## Project group name: Lamaceratops_Salsa_Largo\n",
    "#### Project group members: Jaweria Amjad, Albert Berdjour, Gerald Yiran, Timon Kunze\n",
    "#### Pod TA: Nazimur Rashid Chowdhury\n",
    "#### Project TA: Wil Laura"
   ]
  },
  {
   "cell_type": "code",
   "execution_count": 1,
   "id": "e6c6de02-9189-4c54-93b8-0308eb2b0f47",
   "metadata": {
    "tags": []
   },
   "outputs": [],
   "source": [
    "# You can start coding here\n",
    "#from IPython.display import IFrame\n",
    "#link_id = \"wx7tu\""
   ]
  },
  {
   "cell_type": "code",
   "execution_count": null,
   "id": "fdf1c6f7-5bd1-466f-a39c-29612fafad2c",
   "metadata": {},
   "outputs": [],
   "source": []
  },
  {
   "cell_type": "code",
   "execution_count": null,
   "id": "2fd692c1-39d0-4117-af42-daf49959be32",
   "metadata": {},
   "outputs": [],
   "source": []
  },
  {
   "cell_type": "markdown",
   "id": "47b89a94-1926-417f-b9e2-40f999ac7965",
   "metadata": {},
   "source": [
    "datamatrix 1.0.1 requires openpyxl, which is not installed.\n",
    "\n",
    "datamatrix 1.0.1 requires psutil, which is not installed.\n",
    "\n",
    "datamatrix 1.0.1 requires tomlkit, which is not installed.\n",
    "\n",
    "geopandas 0.13.2 requires fiona>=1.8.19, which is not installed."
   ]
  },
  {
   "cell_type": "code",
   "execution_count": 2,
   "id": "0e70b15b-16e8-42b3-a25c-9c8c3e8f7e30",
   "metadata": {},
   "outputs": [],
   "source": [
    "# To solve xesmf error\n",
    "import os\n",
    "from pathlib import Path\n",
    "\n",
    "if 'ESMFMKFILE' not in os.environ:\n",
    "    os.environ['ESMFMKFILE'] = str(Path(os.__file__).parent.parent / 'esmf.mk')\n",
    "\n",
    "import xesmf"
   ]
  },
  {
   "cell_type": "code",
   "execution_count": 3,
   "id": "cd1b25e1-ff6a-40d3-9703-ac0fce3b06ce",
   "metadata": {
    "tags": []
   },
   "outputs": [
    {
     "name": "stderr",
     "output_type": "stream",
     "text": [
      "/tmp/ipykernel_444794/4104914918.py:4: DeprecationWarning: Please use `label` from the `scipy.ndimage` namespace, the `scipy.ndimage.measurements` namespace is deprecated.\n",
      "  from scipy.ndimage.measurements import label\n"
     ]
    },
    {
     "ename": "ModuleNotFoundError",
     "evalue": "No module named 'xmip'",
     "output_type": "error",
     "traceback": [
      "\u001b[0;31m---------------------------------------------------------------------------\u001b[0m",
      "\u001b[0;31mModuleNotFoundError\u001b[0m                       Traceback (most recent call last)",
      "Cell \u001b[0;32mIn[3], line 14\u001b[0m\n\u001b[1;32m     11\u001b[0m \u001b[38;5;28;01mimport\u001b[39;00m \u001b[38;5;21;01mxesmf\u001b[39;00m \u001b[38;5;28;01mas\u001b[39;00m \u001b[38;5;21;01mxe\u001b[39;00m\n\u001b[1;32m     12\u001b[0m \u001b[38;5;28;01mimport\u001b[39;00m \u001b[38;5;21;01mpyleoclim\u001b[39;00m \u001b[38;5;28;01mas\u001b[39;00m \u001b[38;5;21;01mpyleo\u001b[39;00m\n\u001b[0;32m---> 14\u001b[0m \u001b[38;5;28;01mfrom\u001b[39;00m \u001b[38;5;21;01mxmip\u001b[39;00m\u001b[38;5;21;01m.\u001b[39;00m\u001b[38;5;21;01mpreprocessing\u001b[39;00m \u001b[38;5;28;01mimport\u001b[39;00m combined_preprocessing\n\u001b[1;32m     15\u001b[0m \u001b[38;5;28;01mfrom\u001b[39;00m \u001b[38;5;21;01mxarrayutils\u001b[39;00m\u001b[38;5;21;01m.\u001b[39;00m\u001b[38;5;21;01mplotting\u001b[39;00m \u001b[38;5;28;01mimport\u001b[39;00m shaded_line_plot\n\u001b[1;32m     16\u001b[0m \u001b[38;5;28;01mimport\u001b[39;00m \u001b[38;5;21;01mgeoviews\u001b[39;00m \u001b[38;5;28;01mas\u001b[39;00m \u001b[38;5;21;01mgv\u001b[39;00m\n",
      "\u001b[0;31mModuleNotFoundError\u001b[0m: No module named 'xmip'"
     ]
    }
   ],
   "source": [
    "# imports\n",
    "import time\n",
    "tic = time.time()\n",
    "from scipy.ndimage.measurements import label\n",
    "import sys\n",
    "import pandas as pd\n",
    "import intake\n",
    "import numpy as np\n",
    "import matplotlib.pyplot as plt\n",
    "import xarray as xr\n",
    "import xesmf as xe\n",
    "import pyleoclim as pyleo\n",
    "\n",
    "from xmip.preprocessing import combined_preprocessing\n",
    "from xarrayutils.plotting import shaded_line_plot\n",
    "import geoviews as gv\n",
    "import holoviews\n",
    "from geoviews import Dataset as gvDataset\n",
    "import geoviews.feature as gf\n",
    "from geoviews import Image as gvImage\n",
    "\n",
    "from datatree import DataTree\n",
    "from xmip.postprocessing import _parse_metric\n",
    "import cartopy as cart\n",
    "import cartopy.crs as ccrs\n",
    "import random\n",
    "import pooch\n",
    "import os\n",
    "import tempfile\n",
    "\n",
    "import geopy\n",
    "import geopy.distance\n",
    "import datetime\n",
    "from datetime import date, timedelta"
   ]
  },
  {
   "cell_type": "code",
   "execution_count": null,
   "id": "c1ea60ef-eae7-41ee-8776-b9bf0400eb29",
   "metadata": {},
   "outputs": [],
   "source": []
  },
  {
   "cell_type": "code",
   "execution_count": null,
   "id": "fecee840-71dc-47e1-a30b-7eeb6bdad33c",
   "metadata": {},
   "outputs": [],
   "source": []
  },
  {
   "cell_type": "code",
   "execution_count": null,
   "id": "14550bb8-c15d-4cdb-86e6-1775241205c9",
   "metadata": {},
   "outputs": [],
   "source": []
  },
  {
   "cell_type": "code",
   "execution_count": null,
   "id": "b1c0a99f-56ce-4032-87ac-4fa826ad3674",
   "metadata": {
    "tags": []
   },
   "outputs": [],
   "source": [
    "# helper functions\n",
    "\n",
    "def pooch_load(filelocation=None,filename=None,processor=None):\n",
    "    #shared_location='/home/jovyan/shared/Data/Projects/Heatwaves' # this is different for each day\n",
    "    shared_location='./data/Projects/Heatwaves' \n",
    "    user_temp_cache=tempfile.gettempdir()\n",
    "    \n",
    "    if os.path.exists(os.path.join(shared_location,filename)):\n",
    "        file = os.path.join(shared_location,filename)\n",
    "    else:\n",
    "        file = pooch.retrieve(filelocation,known_hash=None,fname=os.path.join(user_temp_cache,filename),processor=processor)\n",
    "\n",
    "    return file\n"
   ]
  },
  {
   "cell_type": "code",
   "execution_count": null,
   "id": "5d0e35c1-734b-4140-9b71-9fca2df40555",
   "metadata": {
    "tags": []
   },
   "outputs": [],
   "source": [
    "# @title Figure settings\n",
    "import ipywidgets as widgets  # interactive display\n",
    "\n",
    "%config InlineBackend.figure_format = 'retina'\n",
    "plt.style.use(\"https://raw.githubusercontent.com/ClimateMatchAcademy/course-content/main/cma.mplstyle\")\n",
    "# model_colors = {k:f\"C{ki}\" for ki, k in enumerate(source_ids)}\n",
    "%matplotlib inline"
   ]
  },
  {
   "cell_type": "code",
   "execution_count": null,
   "id": "1ea805c7-161d-4a85-a2c1-bcabcbacb9bc",
   "metadata": {},
   "outputs": [],
   "source": [
    "import intake_esm\n",
    "print(intake_esm.__version__)\n",
    "\n",
    "import sys\n",
    "print(sys.executable)"
   ]
  },
  {
   "cell_type": "markdown",
   "id": "2177d2ae-c010-4615-b9ab-fd0462a49c6d",
   "metadata": {},
   "source": [
    "## CMIP6: \n",
    "\n",
    "We will utilize a CMIP6 dataset to examine trends in surface temperature, precipitation and soil moisture on heatwaves.\n",
    "\n",
    "Specifically, in this project we will will analyze data from a model and examine its historical temperature records."
   ]
  },
  {
   "cell_type": "code",
   "execution_count": null,
   "id": "7cbf9d34-34c2-49c4-b4cd-91a3497da8b9",
   "metadata": {
    "tags": []
   },
   "outputs": [],
   "source": [
    "# loading CMIP data\n",
    "\n",
    "col = intake.open_esm_datastore(\n",
    "    \"https://storage.googleapis.com/cmip6/pangeo-cmip6.json\"\n",
    ")  # open an intake catalog containing the Pangeo CMIP cloud data\n",
    "\n",
    "# pick our five example models\n",
    "# There are many more to test out! Try executing `col.df['source_id'].unique()` to get a list of all available models\n",
    "source_ids = ['MPI-ESM1-2-LR']#['MRI-ESM2-0']\n",
    "variable_ids = [\"tas\"]#[\"tas\", \"pr\"]\n",
    "# sorted(col.df[\"source_id\"].unique())\n"
   ]
  },
  {
   "cell_type": "markdown",
   "id": "44ba3ac0-b3fd-47c8-ac02-29a8f1615873",
   "metadata": {},
   "source": [
    "### Fetch data"
   ]
  },
  {
   "cell_type": "code",
   "execution_count": null,
   "id": "b573571d-385e-4c7e-92ef-cffe121a904d",
   "metadata": {
    "tags": []
   },
   "outputs": [],
   "source": [
    "# from the full `col` object, create a subset using facet search\n",
    "cat = col.search(\n",
    "    source_id=source_ids,\n",
    "    variable_id= variable_ids,\n",
    "    member_id=\"r1i1p1f1\",\n",
    "    table_id=\"3hr\",\n",
    "    grid_label=\"gn\",\n",
    "    experiment_id=[\"historical\"],  # add scenarios if interested in projection\n",
    "    require_all_on=[\n",
    "        \"source_id\"\n",
    "    ],  # make sure that we only get models which have all of the above experiments\n",
    ")\n",
    "\n",
    "# convert the sub-catalog into a datatree object, by opening each dataset into an xarray.Dataset (without loading the data)\n",
    "kwargs = dict(\n",
    "    preprocess=combined_preprocessing,  # apply xMIP fixes to each dataset\n",
    "    xarray_open_kwargs=dict(\n",
    "        use_cftime=True\n",
    "    ),  # ensure all datasets use the same time index\n",
    "    storage_options={\n",
    "        \"token\": \"anon\"\n",
    "    },  # anonymous/public authentication to google cloud storage\n",
    ")\n",
    "\n",
    "cat.esmcat.aggregation_control.groupby_attrs = [\"source_id\", \"experiment_id\"]\n",
    "dt = cat.to_datatree(**kwargs)\n",
    "dt"
   ]
  },
  {
   "cell_type": "code",
   "execution_count": null,
   "id": "f520ea8a-7078-4833-ad37-c1d7096bb632",
   "metadata": {
    "tags": []
   },
   "outputs": [],
   "source": [
    "# select just a single model and experiment\n",
    "tas_historical = dt[source_ids[0]][\"historical\"].ds.tas\n",
    "print(\"The time range is:\")\n",
    "print(\n",
    "    tas_historical.time[0].data.astype(\"M8[h]\"),\n",
    "    \"to\",\n",
    "    tas_historical.time[-1].data.astype(\"M8[h]\"),\n",
    ")"
   ]
  },
  {
   "cell_type": "markdown",
   "id": "b5b31347-36cd-4d37-9a74-2c26e6afb013",
   "metadata": {},
   "source": [
    "### Q1: Plot the worldwide near surface temperature distribution (map) for four example years using the CMIP6 dataset."
   ]
  },
  {
   "cell_type": "code",
   "execution_count": null,
   "id": "84df602d-ac6a-4918-9307-80c61880511f",
   "metadata": {
    "tags": []
   },
   "outputs": [],
   "source": [
    "fig, ([ax_1980, ax_1990], [ax_2000, ax_2010]) = plt.subplots(\n",
    "    ncols=2, nrows=2, figsize=[12, 6], subplot_kw={\"projection\": ccrs.Robinson()}\n",
    ")\n",
    "\n",
    "    \n",
    "# plot a timestep for 2023\n",
    "tas_1980 = tas_historical.sel(time=slice(\"1980-01-01\", \"1980-12-31\")).mean(dim=\"time\").squeeze()\n",
    "tas_1980.plot(\n",
    "    ax=ax_1980,\n",
    "    transform=ccrs.PlateCarree(),\n",
    "    cmap=\"magma\",\n",
    "    robust=True,\n",
    ")\n",
    "ax_1980.coastlines()\n",
    "ax_1980.set_title(\"1980\")\n",
    "\n",
    "# repeat for 1990\n",
    "tas_1990 = tas_historical.sel(time=slice(\"1990-01-01\", \"1990-12-31\")).mean(dim=\"time\").squeeze()\n",
    "tas_1990.plot(\n",
    "    ax=ax_1990,\n",
    "    transform=ccrs.PlateCarree(),\n",
    "    cmap=\"magma\",\n",
    "    robust=True,\n",
    ")\n",
    "ax_1990.coastlines()\n",
    "ax_1990.set_title(\"1990\")\n",
    "\n",
    "# repeat for 2000\n",
    "tas_2000 = tas_historical.sel(time=slice(\"2000-01-01\", \"2000-12-31\")).mean(dim=\"time\").squeeze()\n",
    "tas_2000.plot(\n",
    "    ax=ax_2000,\n",
    "    transform=ccrs.PlateCarree(),\n",
    "    cmap=\"magma\",\n",
    "    robust=True,\n",
    ")\n",
    "ax_2000.coastlines()\n",
    "ax_2000.set_title(\"2000\")\n",
    "\n",
    "\n",
    "tas_2010 = tas_historical.sel(time=slice(\"2010-01-01\", \"2010-12-31\")).mean(dim=\"time\").squeeze()\n",
    "tas_2010.plot(\n",
    "    ax=ax_2010,\n",
    "    transform=ccrs.PlateCarree(),\n",
    "    cmap=\"magma\",\n",
    "    robust=True,\n",
    ")\n",
    "ax_2010.coastlines()\n",
    "ax_2010.set_title(\"2010\")"
   ]
  },
  {
   "cell_type": "markdown",
   "id": "a365c9b6-f90b-4ed8-b52f-6cbb0c4ea43e",
   "metadata": {},
   "source": [
    "### Q2: Mask out the ocean, and plot the global mean temperature (yearly average) as a function of time for the past 50 years. Optionally you can also add soil moisture and/or precipitation."
   ]
  },
  {
   "cell_type": "code",
   "execution_count": null,
   "id": "83d59226-2de8-401b-86b2-7bd619ca1070",
   "metadata": {
    "tags": []
   },
   "outputs": [],
   "source": [
    "holoviews.extension(\"bokeh\")\n",
    "tas_yearly_50 = tas_historical.sel(time=slice(\"1961-01-01\", \"2010-12-31\")).groupby(\"time.year\").mean()\n",
    "tas_plot = gvDataset(\n",
    "    tas_yearly_50.isel(year=slice(0, 2))\n",
    ")  # first 5 time steps\n",
    "tas_yearly_50\n",
    "images = tas_plot.to(\n",
    "    gvImage, [\"y\", \"x\"], [\"tas\"], \"year\"\n",
    ")\n",
    "images.opts(\n",
    "    cmap=\"coolwarm\",\n",
    "    colorbar=True,\n",
    "    width=600,\n",
    "    height=400,\n",
    "    projection=ccrs.Robinson(),\n",
    "    clabel=\"Temperature\",\n",
    "\n",
    ") * gf.coastline\n"
   ]
  },
  {
   "cell_type": "markdown",
   "id": "ffd41026-15ec-4682-abe9-3c0cc582a2f8",
   "metadata": {
    "tags": []
   },
   "source": [
    "### Detect heat days for specific date (global) "
   ]
  },
  {
   "cell_type": "code",
   "execution_count": null,
   "id": "8b276acb-2ae0-4c0b-84f8-f3711e23a7fd",
   "metadata": {
    "tags": []
   },
   "outputs": [],
   "source": [
    "def plot_global_temperature_map(ds):\n",
    "    fig, ax_present = plt.subplots(\n",
    "            figsize=[12, 6], subplot_kw={\"projection\": ccrs.Robinson()}\n",
    "        )\n",
    "    ds.plot(ax=ax_present, transform=ccrs.PlateCarree(), cmap=\"magma\", robust=True)\n",
    "    ax_present.coastlines()\n",
    "    ax_present.add_feature(cart.feature.OCEAN, zorder=100, edgecolor='k')\n",
    "    ax_present.set_title(\"\")\n",
    "    plt.show()\n",
    "\n",
    "w_day = 10\n",
    "tas_selected = tas_historical.sel(time=slice(\"2000-01-01\", \"2001-12-31\")).squeeze()\n",
    "tas_daily_mean = tas_selected.resample(time='D').mean(dim='time')\n",
    "tas_rolling_P95 = tas_daily_mean.rolling(time=w_day, center=True).mean().chunk(time=-1).quantile(.95, dim='time')\n",
    "tas_grtr_P95 = tas_daily_mean>tas_rolling_P95 # Create Boolean mask\n",
    "tas_heat_cells = tas_daily_mean.where(tas_grtr_P95).sel(time=\"2000-07-03\").squeeze()\n",
    "\n",
    "plot_global_temperature_map(tas_heat_cells)"
   ]
  },
  {
   "cell_type": "markdown",
   "id": "90155768-679c-48b9-a608-c7808beca057",
   "metadata": {},
   "source": [
    "### Q7: Heat wave detection in region"
   ]
  },
  {
   "cell_type": "code",
   "execution_count": null,
   "id": "b8199be9-bbfe-404a-b49e-aae5b0ac97e3",
   "metadata": {
    "tags": []
   },
   "outputs": [],
   "source": [
    "def compute_tasAndP95mask(tas_historical, year_range):\n",
    "    \"\"\"\n",
    "    computes global temperatures and P95 masks\n",
    "    \"\"\"\n",
    "    \n",
    "    tas_grtr_P95_all = []\n",
    "    tas_daily_mean_all = []\n",
    "    for year in year_range:\n",
    "        year_start = f\"{year}-01-01\"\n",
    "        year_end = f\"{year}-12-31\"\n",
    "\n",
    "        # Compute daily mean from\n",
    "        tas_selected = tas_historical.sel(time=slice(year_start, year_end)).squeeze()\n",
    "        tas_daily_mean_yrly = tas_selected.resample(time='D').mean(dim='time')\n",
    "        tas_rolling_P95_yrly = tas_daily_mean_yrly.rolling(time=w_day, center=True).mean().chunk(time=-1).quantile(.95, dim='time')\n",
    "        tas_grtr_P95_yrly = tas_daily_mean_yrly>tas_rolling_P95_yrly\n",
    "        tas_grtr_P95_all.append(tas_grtr_P95_yrly)\n",
    "        tas_daily_mean_all.append(tas_daily_mean_yrly)\n",
    "\n",
    "    return tas_daily_mean_all, tas_grtr_P95_all\n",
    "# Given a day, this function computes if the region of interest experienced heatwave\n",
    "\n",
    "def get_distance_km(lat1, lon1, lat2, lon2):\n",
    "    \"\"\"Calculate distance in kilometers between two lat-long points.\n",
    "    \"\"\"\n",
    "    # Create two points\n",
    "    A = geopy.Point(lat1, lon1)\n",
    "    B = geopy.Point(lat2, lon2)\n",
    "\n",
    "    # Calculate the distance between the two points\n",
    "    dist_km = geopy.distance.distance(A, B).km\n",
    "    \n",
    "    return dist_km \n",
    "\n",
    "\n",
    "def get_weights(ds):\n",
    "    \"\"\"For a rectangular grid the cosine of the latitude \n",
    "    is proportional to the grid cell area.\n",
    "    \"\"\"\n",
    "    weights = np.cos(np.deg2rad(ds.lat))\n",
    "    weights.name = \"weights\"\n",
    " \n",
    "    return weights\n",
    "\n",
    "\n",
    "def get_max_cell_area_kmsqr(ds):\n",
    "    \"\"\"Calculate the difference in square km between two\n",
    "    neightboring cells that have a weight of 1 (largest).\n",
    "    \"\"\"\n",
    "    # Get geo-distance between random neighboring points on \n",
    "    # lat=-0.9326 which is axis of largest cells\n",
    "    lat1 = -0.9326\n",
    "    lon1 = 360.0\n",
    "    lat2 = lat1\n",
    "    lon2 = 1.875\n",
    "\n",
    "    #weights.sel(y=lat1, x=lon1, method=\"nearest\") \n",
    "    #weights.sel(y=-lat2, x=lon2, method=\"nearest\")\n",
    "\n",
    "    max_cell_length = get_distance_km(lat1, lon1, lat2, lon2)\n",
    "    \n",
    "    # area as sqared length\n",
    "    max_cell_area = max_cell_length**2\n",
    "    \n",
    "    return max_cell_area\n",
    "\n",
    "\n",
    "def get_area_of_cell_kmsqr(ds, cell_lat, cell_lon):\n",
    "    \"\"\"Since weights have values from 0 to 1, we can\n",
    "    get the cell km^2-area by weighting with max \n",
    "    cell area.\n",
    "    \"\"\"\n",
    "    area = get_weights(ds)*get_max_cell_area_kmsqr(ds)\n",
    "    area.name = \"area\"\n",
    " \n",
    "    cell_area = area.sel(y=cell_lat, x=cell_lon, method=\"nearest\")\n",
    "\n",
    "    return cell_area\n",
    "\n",
    "\n",
    "def heatwave_over_region(tas_region, \n",
    "                         P95_mask_region, \n",
    "                         E, X, \n",
    "                         start_date=(2010, 7, 15), \n",
    "                         plotting=True,\n",
    "                         mask_ocean=False,\n",
    "                         verbose=True,\n",
    "                         ret = False\n",
    "                        ):\n",
    "    \"\"\"\n",
    "    tas_region: daily mean temperature of the region of interest for the year \"year_ofinterest\"\n",
    "    P95_mask_region: mask of the region of interest for the year \"year_ofinterest\"\n",
    "    E: minimum area (km^2) with tas>P95 for heatwave\n",
    "    X: minmum number of days over which tas>P95\n",
    "    \"\"\"\n",
    "    \n",
    "    lat, lon, time = P95_mask_region.indexes.values()\n",
    "    # year, month, day = start_date\n",
    "    end_date = start_date + timedelta(days = X-1)\n",
    "    if (end_date.year>start_date.year):\n",
    "        print(\"Can't detect heatwaves for days that span more than a year\")\n",
    "        return 0\n",
    "    # print((end_date.strftime('%Y-%m-%d')))\n",
    "    tas_X_days = P95_mask_region.sel(time=slice(start_date.strftime('%Y-%m-%d'),end_date.strftime('%Y-%m-%d')))\n",
    "    tas_X_days_numpy = np.nan_to_num(tas_X_days.as_numpy())\n",
    "    ht_array, num_ht = label(np.prod(tas_X_days_numpy, axis=0))\n",
    "    # print(ht_array)\n",
    "    for ii in range(num_ht):\n",
    "        coords = np.argwhere(ht_array==(ii+1))        \n",
    "        cell_lats = lat[coords[:, 0]]\n",
    "        cell_lons = lon[coords[:, 1]]\n",
    "        \n",
    "        # dst = tas_daily_mean.sel(time=\"1980\").squeeze()  \n",
    "        dst = tas_daily_mean.sel(time=str(year_ofinterest)).squeeze() \n",
    "        # 1980, 2000, start_date.strftime('%Y-%m-%d')\n",
    "        area = 0\n",
    "        for cell_lon in cell_lons:\n",
    "            for cell_lat in cell_lats:\n",
    "                area += get_area_of_cell_kmsqr(dst,\n",
    "                                               cell_lat=cell_lat, \n",
    "                                               cell_lon=cell_lon)\n",
    "        \n",
    "        #print(area)\n",
    "        if (area<E):\n",
    "            for c_i in coords[:, 0]:\n",
    "                for c_j in coords[:, 1]:\n",
    "                    ht_array[c_i, c_j] = 0\n",
    "\n",
    "    if verbose:               \n",
    "        print(f\"Number of heat waves recorded on the date {start_date}: {len(np.unique(ht_array))-1}\")\n",
    "    # uncomment if want to see output temperature array\n",
    "    # print(np.nan_to_num(tas_region.sel(time=start_date.strftime('%Y-%m-%d')).squeeze().where(ht_array).as_numpy()))\n",
    "    if plotting:\n",
    "        fig, ax_present = plt.subplots(figsize=[8, 4], subplot_kw={\"projection\": ccrs.Robinson()})\n",
    "        tas_region.sel(time=start_date.strftime('%Y-%m-%d')).squeeze().where(ht_array).plot(ax=ax_present, transform=ccrs.PlateCarree(), \n",
    "                                                                                            cmap=\"magma\", robust=True)\n",
    "        ax_present.coastlines()\n",
    "        if mask_ocean:\n",
    "            ax_present.add_feature(cart.feature.OCEAN, zorder=100, edgecolor='k')\n",
    "        ax_present.set_title(f\"Heatwaves on {start_date.strftime('%Y-%m-%d')}\")\n",
    "        plt.show()\n",
    "    if ret:\n",
    "        return len(np.unique(ht_array))-1"
   ]
  },
  {
   "cell_type": "markdown",
   "id": "320f3a13-9e50-4fe1-a8ef-fddca663813d",
   "metadata": {},
   "source": [
    "### Plotting heat cells over X days in region of interest"
   ]
  },
  {
   "cell_type": "code",
   "execution_count": null,
   "id": "d06da4f1-571a-41f4-ac38-690ec763c678",
   "metadata": {
    "tags": []
   },
   "outputs": [],
   "source": [
    "# - we count total number of cells in a given region for a number of consecutive days (count_cells_all_days)\n",
    "# - we count the number of heat cells (i.e. cells that show temperature above the 95% quantile (count_heat_cells_all_days)\n",
    "# - the ratio between heat cells and total number of cells (count_heat_cells_all_days / count_cells_all_days) is compared to a threshold value\n",
    "# - if the ratio is higher than the threshold, a heat wave is detected. Otherwise not.\n",
    "\n",
    "def count_cells(ds):\n",
    "    \"\"\"Counts the number of cells in a data set\"\"\"\n",
    "    x = ds.x.shape[0]\n",
    "    y = ds.y.shape[0]\n",
    "    return x * y\n",
    "\n",
    "\n",
    "def count_true_cells_in_mask(ds_mask):\n",
    "    \"\"\"Counts the number of heat cells in a data set\"\"\"\n",
    "    return ds_mask.sum().to_numpy()\n",
    "\n",
    "\n",
    "def get_heat_waves_from_date(tas_daily_mean_masked,\n",
    "                             tas_grtr_P95_ME,\n",
    "                             start_date, \n",
    "                             nb_days=5, \n",
    "                             threshold=0.25,\n",
    "                             verbose=False,\n",
    "                             plotting=False,\n",
    "                           ):\n",
    "    \"\"\"\n",
    "    Based on a threshold, calculate the percentage of heat days over a \n",
    "    given number of days (e.g. 5 days) given a starting data.\n",
    "    \n",
    "    tas_daily_mean_masked: masked daily mean values\n",
    "    tas_grtr_P95_ME: mask\n",
    "    start_date: date at which to start looking for heatwaves\n",
    "    nb_days: number of days necessary to count as a heatwave\n",
    "    threshold: detection threshold for heatwave\n",
    "    verbose: print results (boolean)\n",
    "    plotting: plot results (boolean)\n",
    "    \"\"\"\n",
    "\n",
    "    # year, month, day = start_date\n",
    "    # start_date = datetime.date(year, month, day)\n",
    "\n",
    "    count_cells_all_days = 0\n",
    "    count_heat_cells_all_days = 0\n",
    "\n",
    "    for day_i in range(nb_days):\n",
    "        t = datetime.timedelta(days=-int((nb_days-1)/2)) + start_date + datetime.timedelta(days=day_i)\n",
    "        t = t.strftime('%Y-%m-%d')\n",
    "\n",
    "        tas_daily_mean_day = tas_daily_mean_masked.sel(time=t).squeeze()\n",
    "        tas_grtr_P95_day = tas_grtr_P95_ME.sel(time=t).squeeze()\n",
    "\n",
    "        count_cells_all_days += count_cells(tas_grtr_P95_day)\n",
    "        count_heat_cells_all_days += count_true_cells_in_mask(tas_grtr_P95_day)\n",
    "\n",
    "        if plotting is True:\n",
    "            fig, ax_present = plt.subplots(figsize=[8, 4], \n",
    "                                           subplot_kw={\"projection\": ccrs.Robinson()})\n",
    "            tas_daily_mean_day.plot(ax=ax_present, \n",
    "                                    transform=ccrs.PlateCarree(), \n",
    "                                    cmap=\"magma\", robust=True)\n",
    "            ax_present.coastlines()\n",
    "            ax_present.add_feature(cart.feature.OCEAN, zorder=100, edgecolor='k')\n",
    "            ax_present.set_title(\"Day \" + str(day_i-int((nb_days-1)/2)) + \" (\" + t + \")\")# - int((nb_days-1)/2)), t)\n",
    "            plt.show()\n",
    "\n",
    "    # Calculate percentage of heat cells over given number of days\n",
    "    heat_cell_perc = count_heat_cells_all_days / count_cells_all_days\n",
    "    heat_wave_detect = heat_cell_perc > threshold\n",
    "    \n",
    "    if verbose is True:\n",
    "        print(\"Date: \", start_date.strftime('%Y-%m-%d'), \" to \", t)\n",
    "        print(\"Number of days: \", nb_days)\n",
    "        print(\"Heat Wave Detected:\", heat_wave_detect)\n",
    "        print(\"Threshold of: \", str(threshold*100) + \"%\")\n",
    "        print(\"Heat Cell Perc\", str(np.round(heat_cell_perc, 2)*100) + \"%\")\n",
    "        print(\"Nb Heat Cells\", count_heat_cells_all_days)\n",
    "        print(\"Nb Cells\", count_cells_all_days)\n",
    "        \n",
    "    return heat_wave_detect, heat_cell_perc\n",
    "        \n"
   ]
  },
  {
   "cell_type": "markdown",
   "id": "203d3732-e32d-455a-9edb-58d7b27c6001",
   "metadata": {
    "tags": []
   },
   "source": [
    "### Main: Heatwave Detection"
   ]
  },
  {
   "cell_type": "code",
   "execution_count": null,
   "id": "63281e56-5668-4ec6-9fc8-2aaad9217d2b",
   "metadata": {
    "tags": []
   },
   "outputs": [],
   "source": [
    "w_day = 10\n",
    "E = 200*200 # km^2, minimum area over which tas>P95 for heatwave to exist\n",
    "X = 7 # days, minimum number of days for which tas(area)>P95 for heatwave to exist\n",
    "year_range = list(np.arange(1979, 2015))\n",
    "year_ofinterest = 2010\n",
    "start_date = date(year_ofinterest, 7, 15)\n",
    "\n",
    "tas_daily_mean_all, tas_grtr_P95_all = compute_tasAndP95mask(tas_historical, year_range)\n",
    "\n",
    "tas_daily_mean = tas_daily_mean_all[year_range.index(year_ofinterest)]\n",
    "tas_grtr_P95 = tas_grtr_P95_all[year_range.index(year_ofinterest)]\n",
    "\n",
    "\n",
    "# We have chosen Middle East (ME) as our region of interest (where we want to detect heatwaves). \n",
    "# ME is approximately bounded within  [25°E to 65°E] and  [20°N to 40°N]\n",
    "\n",
    "# Slice of lon and lat coordinates for middle east\n",
    "lon_slice = slice(25, 65)  # Longitude Range: Approximately 25°E to 65°E\n",
    "lat_slice = slice(20, 40)   # Latitude Range: Approximately 20°N to 40°N\n",
    "tas_daily_mean_ME = tas_daily_mean.sel(x=lon_slice, y=lat_slice)\n",
    "tas_grtr_P95_ME = tas_grtr_P95.sel(x=lon_slice, y=lat_slice)\n",
    "tas_daily_mean_grtr_P95_ME = tas_daily_mean_ME.where(tas_grtr_P95_ME)\n",
    "\n",
    "heatwave_over_region(tas_daily_mean_ME, \n",
    "                     tas_grtr_P95_ME, \n",
    "                     E, \n",
    "                     X, \n",
    "                     start_date)"
   ]
  },
  {
   "cell_type": "markdown",
   "id": "f77cfc96-f505-44dd-93f6-71b4dc95d142",
   "metadata": {},
   "source": [
    "#### Detect heatwaves in fixed region\n"
   ]
  },
  {
   "cell_type": "code",
   "execution_count": null,
   "id": "744b7828-1b3b-407f-bbb9-083016aad3bf",
   "metadata": {
    "tags": []
   },
   "outputs": [],
   "source": [
    "get_heat_waves_from_date(tas_daily_mean_grtr_P95_ME,\n",
    "                                   tas_grtr_P95_ME,\n",
    "                                   start_date, \n",
    "                                   nb_days=5, \n",
    "                                   threshold=0.25,\n",
    "                                   verbose=True,\n",
    "                                   plotting=True,\n",
    "                                   )"
   ]
  },
  {
   "cell_type": "code",
   "execution_count": null,
   "id": "62a4ae13-0285-47ff-abd3-5b0efd8c1cbf",
   "metadata": {
    "tags": []
   },
   "outputs": [],
   "source": [
    "def annual_mean_heatwave(year_range,\n",
    "                         E, X,\n",
    "                         tas_daily_mean_all, \n",
    "                         tas_grtr_P95_all, \n",
    "                         lon_slice, \n",
    "                         lat_slice):\n",
    "    n_hw=[]\n",
    "    for year in year_range:\n",
    "        tas_daily_mean = tas_daily_mean_all[year_range.index(year)]\n",
    "        tas_grtr_P95 = tas_grtr_P95_all[year_range.index(year)]\n",
    "        tas_daily_mean_regional = tas_daily_mean.sel(x=lon_slice, y=lat_slice)\n",
    "        tas_grtr_P95_regional = tas_grtr_P95.sel(x=lon_slice, y=lat_slice)\n",
    "        # tas_daily_mean_grtr_P95_regional = tas_daily_mean_regional.where(tas_grtr_P95_ME)\n",
    "\n",
    "        sdate = date(year,7,1)   # start date\n",
    "        edate = date(year,8,31)   # end date\n",
    "        dates = [sdate+timedelta(days=x) for x in range(0,(edate-sdate).days, X)]\n",
    "        n_total=0\n",
    "        for start_date in dates:\n",
    "            n = heatwave_over_region(tas_daily_mean_regional, tas_grtr_P95_regional, E, X, start_date, \n",
    "                                     plotting=True,mask_ocean=False, verbose = True, ret=True)\n",
    "            n_total = n_total+n\n",
    "        print(f\"Total number of heatwaves in the year {year} are {n_total}\")\n",
    "        n_hw.append(n_total)\n",
    "        # print(n_hw)\n",
    "    return n_hw\n",
    "    \n",
    "    \n",
    "    \n",
    "# hw_over_years = annual_mean_heatwave(year_range,E, X,tas_daily_mean_all, tas_grtr_P95_all, lon_slice, lat_slice)\n",
    "hw_over_years = annual_mean_heatwave([1979],E, X,tas_daily_mean_all, tas_grtr_P95_all, lon_slice, lat_slice)"
   ]
  },
  {
   "cell_type": "code",
   "execution_count": null,
   "id": "a61691c0-8536-40f9-917a-7b90193c1739",
   "metadata": {
    "tags": []
   },
   "outputs": [],
   "source": [
    "tas_daily_mean_all[0]"
   ]
  },
  {
   "cell_type": "code",
   "execution_count": null,
   "id": "80ab6fd2-476e-4c3e-8a3f-c4afe883c9ca",
   "metadata": {
    "tags": []
   },
   "outputs": [],
   "source": [
    "years = range(1979, 2010)\n",
    "hw = [25, 18, 19, 28, 20, 23, 20, 20, 15, 16, 18, 12, 17, 14, 26, 20, 23, 15, 19, 23, 18, 19, 17, 14, 18, 18, 22, 17, 14, 12, 13]"
   ]
  },
  {
   "cell_type": "code",
   "execution_count": null,
   "id": "465b2f06-6d50-4d97-9116-f9c16da4e0b6",
   "metadata": {
    "tags": []
   },
   "outputs": [],
   "source": [
    "fig, ax = plt.subplots(1, sharex=True)\n",
    "fig.suptitle(\"Heatwaves over the Years\")\n",
    "ax.plot(years, hw)\n",
    "ax.set_ylabel(\"Number of heatwaves\")\n",
    "ax.set_xlabel(\"Time\")"
   ]
  },
  {
   "cell_type": "code",
   "execution_count": null,
   "id": "4113a3ac-0bfc-4001-908e-e840b0e4bc17",
   "metadata": {},
   "outputs": [],
   "source": []
  }
 ],
 "metadata": {
  "kernelspec": {
   "display_name": "heat_detect",
   "language": "python",
   "name": "heat_detect"
  },
  "language_info": {
   "codemirror_mode": {
    "name": "ipython",
    "version": 3
   },
   "file_extension": ".py",
   "mimetype": "text/x-python",
   "name": "python",
   "nbconvert_exporter": "python",
   "pygments_lexer": "ipython3",
   "version": "3.11.4"
  }
 },
 "nbformat": 4,
 "nbformat_minor": 5
}
